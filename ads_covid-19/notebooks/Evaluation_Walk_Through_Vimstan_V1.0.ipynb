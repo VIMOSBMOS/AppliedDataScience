{
 "cells": [
  {
   "cell_type": "markdown",
   "metadata": {},
   "source": [
    "# One full run through"
   ]
  },
  {
   "cell_type": "markdown",
   "metadata": {},
   "source": [
    "- Run through the large data set\n",
    "- Ensure full run with one click"
   ]
  },
  {
   "cell_type": "code",
   "execution_count": 1,
   "metadata": {},
   "outputs": [
    {
     "data": {
      "text/plain": [
       "'Your base path is at: ads_covid-19'"
      ]
     },
     "execution_count": 1,
     "metadata": {},
     "output_type": "execute_result"
    }
   ],
   "source": [
    "import os\n",
    "if os.path.split(os.getcwd())[-1] == 'notebooks':\n",
    "    os.chdir(\"../\")\n",
    "\n",
    "'Your base path is at: ' + os.path.split(os.getcwd())[-1]"
   ]
  },
  {
   "cell_type": "markdown",
   "metadata": {},
   "source": [
    "## 1. Update all data"
   ]
  },
  {
   "cell_type": "markdown",
   "metadata": {},
   "source": [
    "- close loop towards business delivery\n",
    "- process should be a one click delivery\n",
    "- move to large dataset"
   ]
  },
  {
   "cell_type": "code",
   "execution_count": 2,
   "metadata": {},
   "outputs": [
    {
     "name": "stdout",
     "output_type": "stream",
     "text": [
      "Error: b'From https://github.com/CSSEGISandData/COVID-19\\n   6e9880c5..b12e9300  master                 -> origin/master\\n * [new branch]        2815-Update-Ohio-Jul-2 -> origin/2815-Update-Ohio-Jul-2\\n * [new branch]        2827-Update-Brazil-Deaths-Jul-3 -> origin/2827-Update-Brazil-Deaths-Jul-3\\n * [new branch]        2829-Harris-TX         -> origin/2829-Harris-TX\\n * [new branch]        Fix-Global-Deaths      -> origin/Fix-Global-Deaths\\n * [new branch]        IL-fix-issue2815       -> origin/IL-fix-issue2815\\n   81026de3..10ba06d1  web-data               -> origin/web-data\\n'\n",
      "out: b'Updating 6e9880c5..b12e9300\\nFast-forward\\n README.md                                          |   39 +-\\n csse_covid_19_data/README.md                       |   34 +-\\n .../csse_covid_19_daily_reports/06-06-2020.csv     |    2 +-\\n .../csse_covid_19_daily_reports/06-12-2020.csv     | 3739 +++++++++++\\n .../csse_covid_19_daily_reports/06-13-2020.csv     | 3742 +++++++++++\\n .../csse_covid_19_daily_reports/06-14-2020.csv     | 3742 +++++++++++\\n .../csse_covid_19_daily_reports/06-15-2020.csv     | 3747 +++++++++++\\n .../csse_covid_19_daily_reports/06-16-2020.csv     | 3745 +++++++++++\\n .../csse_covid_19_daily_reports/06-17-2020.csv     | 3748 +++++++++++\\n .../csse_covid_19_daily_reports/06-18-2020.csv     | 3749 +++++++++++\\n .../csse_covid_19_daily_reports/06-19-2020.csv     | 3750 +++++++++++\\n .../csse_covid_19_daily_reports/06-20-2020.csv     | 3754 +++++++++++\\n .../csse_covid_19_daily_reports/06-21-2020.csv     | 3754 +++++++++++\\n .../csse_covid_19_daily_reports/06-22-2020.csv     | 3757 +++++++++++\\n .../csse_covid_19_daily_reports/06-23-2020.csv     | 3762 +++++++++++\\n .../csse_covid_19_daily_reports/06-24-2020.csv     | 3775 +++++++++++\\n .../csse_covid_19_daily_reports/06-25-2020.csv     | 3782 ++++++++++++\\n .../csse_covid_19_daily_reports/06-26-2020.csv     | 3783 ++++++++++++\\n .../csse_covid_19_daily_reports/06-27-2020.csv     | 3784 ++++++++++++\\n .../csse_covid_19_daily_reports/06-28-2020.csv     | 3784 ++++++++++++\\n .../csse_covid_19_daily_reports/06-29-2020.csv     | 3786 ++++++++++++\\n .../csse_covid_19_daily_reports/06-30-2020.csv     | 3788 ++++++++++++\\n .../csse_covid_19_daily_reports/07-01-2020.csv     | 3790 ++++++++++++\\n .../csse_covid_19_daily_reports/07-02-2020.csv     | 3793 ++++++++++++\\n .../csse_covid_19_daily_reports/07-03-2020.csv     | 3798 ++++++++++++\\n .../csse_covid_19_daily_reports/07-04-2020.csv     | 3799 ++++++++++++\\n .../csse_covid_19_daily_reports/07-05-2020.csv     | 3800 ++++++++++++\\n .../csse_covid_19_daily_reports/07-06-2020.csv     | 3803 ++++++++++++\\n .../csse_covid_19_daily_reports/07-07-2020.csv     | 3804 ++++++++++++\\n .../csse_covid_19_daily_reports/07-08-2020.csv     | 3807 ++++++++++++\\n .../csse_covid_19_daily_reports/07-09-2020.csv     | 3807 ++++++++++++\\n .../csse_covid_19_daily_reports/07-10-2020.csv     | 3811 ++++++++++++\\n .../csse_covid_19_daily_reports_us/04-18-2020.csv  |   83 +-\\n .../csse_covid_19_daily_reports_us/04-19-2020.csv  |   83 +-\\n .../csse_covid_19_daily_reports_us/06-06-2020.csv  |    2 +-\\n .../csse_covid_19_daily_reports_us/06-12-2020.csv  |   59 +\\n .../csse_covid_19_daily_reports_us/06-13-2020.csv  |   59 +\\n .../csse_covid_19_daily_reports_us/06-14-2020.csv  |   59 +\\n .../csse_covid_19_daily_reports_us/06-15-2020.csv  |   59 +\\n .../csse_covid_19_daily_reports_us/06-16-2020.csv  |   59 +\\n .../csse_covid_19_daily_reports_us/06-17-2020.csv  |   59 +\\n .../csse_covid_19_daily_reports_us/06-18-2020.csv  |   59 +\\n .../csse_covid_19_daily_reports_us/06-19-2020.csv  |   59 +\\n .../csse_covid_19_daily_reports_us/06-20-2020.csv  |   59 +\\n .../csse_covid_19_daily_reports_us/06-21-2020.csv  |   59 +\\n .../csse_covid_19_daily_reports_us/06-22-2020.csv  |   59 +\\n .../csse_covid_19_daily_reports_us/06-23-2020.csv  |   59 +\\n .../csse_covid_19_daily_reports_us/06-24-2020.csv  |   59 +\\n .../csse_covid_19_daily_reports_us/06-25-2020.csv  |   59 +\\n .../csse_covid_19_daily_reports_us/06-26-2020.csv  |   59 +\\n .../csse_covid_19_daily_reports_us/06-27-2020.csv  |   59 +\\n .../csse_covid_19_daily_reports_us/06-28-2020.csv  |   59 +\\n .../csse_covid_19_daily_reports_us/06-29-2020.csv  |   59 +\\n .../csse_covid_19_daily_reports_us/06-30-2020.csv  |   59 +\\n .../csse_covid_19_daily_reports_us/07-01-2020.csv  |   59 +\\n .../csse_covid_19_daily_reports_us/07-02-2020.csv  |   59 +\\n .../csse_covid_19_daily_reports_us/07-03-2020.csv  |   59 +\\n .../csse_covid_19_daily_reports_us/07-04-2020.csv  |   59 +\\n .../csse_covid_19_daily_reports_us/07-05-2020.csv  |   59 +\\n .../csse_covid_19_daily_reports_us/07-06-2020.csv  |   59 +\\n .../csse_covid_19_daily_reports_us/07-07-2020.csv  |   59 +\\n .../csse_covid_19_daily_reports_us/07-08-2020.csv  |   59 +\\n .../csse_covid_19_daily_reports_us/07-09-2020.csv  |   59 +\\n .../csse_covid_19_daily_reports_us/07-10-2020.csv  |   59 +\\n .../csse_covid_19_time_series/Errata.csv           |  200 +-\\n .../time_series_covid19_confirmed_US.csv           | 6524 ++++++++++----------\\n .../time_series_covid19_confirmed_global.csv       |  534 +-\\n .../time_series_covid19_deaths_US.csv              | 6524 ++++++++++----------\\n .../time_series_covid19_deaths_global.csv          |  534 +-\\n .../time_series_covid19_recovered_global.csv       |  508 +-\\n .../20200329-sitrep-69-covid-19.pdf                |  Bin 0 -> 1170554 bytes\\n .../20200330-sitrep-70-covid-19.pdf                |  Bin 0 -> 1184723 bytes\\n .../20200331-sitrep-71-covid-19.pdf                |  Bin 0 -> 1207851 bytes\\n .../20200401-sitrep-72-covid-19.pdf                |  Bin 0 -> 1292378 bytes\\n .../20200402-sitrep-73-covid-19.pdf                |  Bin 0 -> 1306340 bytes\\n .../20200403-sitrep-74-covid-19-mp.pdf             |  Bin 0 -> 1360232 bytes\\n .../20200404-sitrep-75-covid-19.pdf                |  Bin 0 -> 1189774 bytes\\n .../20200405-sitrep-76-covid-19.pdf                |  Bin 0 -> 1191238 bytes\\n .../20200406-sitrep-77-covid-19.pdf                |  Bin 0 -> 1183611 bytes\\n .../20200407-sitrep-78-covid-19.pdf                |  Bin 0 -> 1204309 bytes\\n .../20200408-sitrep-79-covid-19.pdf                |  Bin 0 -> 1219467 bytes\\n .../20200409-sitrep-80-covid-19.pdf                |  Bin 0 -> 1313638 bytes\\n .../20200410-sitrep-81-covid-19.pdf                |  Bin 0 -> 1202049 bytes\\n .../20200411-sitrep-82-covid-19.pdf                |  Bin 0 -> 1231405 bytes\\n .../20200412-sitrep-83-covid-19.pdf                |  Bin 0 -> 1209788 bytes\\n .../20200413-sitrep-84-covid-19.pdf                |  Bin 0 -> 1208463 bytes\\n .../20200414-sitrep-85-covid-19.pdf                |  Bin 0 -> 1227151 bytes\\n .../20200415-sitrep-86-covid-19.pdf                |  Bin 0 -> 1295008 bytes\\n .../20200416-sitrep-87-covid-19.pdf                |  Bin 0 -> 1229092 bytes\\n ...88-covid-191b6cccd94f8b4f219377bff55719a6ed.pdf |  Bin 0 -> 820921 bytes\\n .../20200418-sitrep-89-covid-19.pdf                |  Bin 0 -> 1341507 bytes\\n .../20200419-sitrep-90-covid-19.pdf                |  Bin 0 -> 1225434 bytes\\n .../20200420-sitrep-91-covid-19.pdf                |  Bin 0 -> 795896 bytes\\n .../20200421-sitrep-92-covid-19.pdf                |  Bin 0 -> 788436 bytes\\n .../20200422-sitrep-93-covid-19.pdf                |  Bin 0 -> 958696 bytes\\n .../20200423-sitrep-94-covid-19.pdf                |  Bin 0 -> 1255401 bytes\\n .../20200424-sitrep-95-covid-19.pdf                |  Bin 0 -> 1297283 bytes\\n .../20200425-sitrep-96-covid-19.pdf                |  Bin 0 -> 822085 bytes\\n .../20200426-sitrep-97-covid-19.pdf                |  Bin 0 -> 828199 bytes\\n .../20200427-sitrep-98-covid-19.pdf                |  Bin 0 -> 1279979 bytes\\n .../20200428-sitrep-99-covid-19.pdf                |  Bin 0 -> 1167301 bytes\\n .../20200429-sitrep-100-covid-19.pdf               |  Bin 0 -> 1378743 bytes\\n .../20200430-sitrep-101-covid-19.pdf               |  Bin 0 -> 1634065 bytes\\n .../20200501-covid-19-sitrep.pdf                   |  Bin 0 -> 1513797 bytes\\n .../20200502-covid-19-sitrep-103.pdf               |  Bin 0 -> 1523560 bytes\\n .../20200503-covid-19-sitrep-104.pdf               |  Bin 0 -> 1531775 bytes\\n .../20200504-covid-19-sitrep-105.pdf               |  Bin 0 -> 1398241 bytes\\n .../20200505covid-19-sitrep-106.pdf                |  Bin 0 -> 1350720 bytes\\n .../20200506covid-19-sitrep-107.pdf                |  Bin 0 -> 1090169 bytes\\n .../20200507covid-19-sitrep-108.pdf                |  Bin 0 -> 1356038 bytes\\n .../20200508covid-19-sitrep-109.pdf                |  Bin 0 -> 930298 bytes\\n .../20200509covid-19-sitrep-110.pdf                |  Bin 0 -> 1283840 bytes\\n .../20200510covid-19-sitrep-111.pdf                |  Bin 0 -> 1348879 bytes\\n .../20200511-covid-19-sitrep-112.pdf               |  Bin 0 -> 1172702 bytes\\n .../20200512-covid-19-sitrep-113.pdf               |  Bin 0 -> 1274166 bytes\\n .../20200513-covid-19-sitrep-114.pdf               |  Bin 0 -> 848079 bytes\\n .../20200514-covid-19-sitrep-115.pdf               |  Bin 0 -> 1214353 bytes\\n .../20200515-covid-19-sitrep-116.pdf               |  Bin 0 -> 1594201 bytes\\n .../20200516-covid-19-sitrep-117.pdf               |  Bin 0 -> 834957 bytes\\n .../20200517-covid-19-sitrep-118.pdf               |  Bin 0 -> 1234638 bytes\\n .../20200518-covid-19-sitrep-119.pdf               |  Bin 0 -> 1633457 bytes\\n .../20200519-covid-19-sitrep-120.pdf               |  Bin 0 -> 1624248 bytes\\n .../20200520-covid-19-sitrep-121.pdf               |  Bin 0 -> 1644579 bytes\\n .../20200521-covid-19-sitrep-122.pdf               |  Bin 0 -> 1629769 bytes\\n .../20200522-covid-19-sitrep-123.pdf               |  Bin 0 -> 1198333 bytes\\n .../20200523-covid-19-sitrep-124.pdf               |  Bin 0 -> 1511017 bytes\\n .../20200524-covid-19-sitrep-125.pdf               |  Bin 0 -> 1479447 bytes\\n .../20200525-covid-19-sitrep-126.pdf               |  Bin 0 -> 1246973 bytes\\n .../20200526-covid-19-sitrep-127.pdf               |  Bin 0 -> 1266086 bytes\\n .../20200527-covid-19-sitrep-128.pdf               |  Bin 0 -> 1380579 bytes\\n .../20200528-covid-19-sitrep-129.pdf               |  Bin 0 -> 994038 bytes\\n .../20200529-covid-19-sitrep-130.pdf               |  Bin 0 -> 1243863 bytes\\n .../20200530-covid-19-sitrep-131.pdf               |  Bin 0 -> 1742839 bytes\\n .../20200531-covid-19-sitrep-132.pdf               |  Bin 0 -> 1699390 bytes\\n .../20200601-covid-19-sitrep-133.pdf               |  Bin 0 -> 1213270 bytes\\n .../20200602-covid-19-sitrep-134.pdf               |  Bin 0 -> 1214465 bytes\\n .../20200603-covid-19-sitrep-135.pdf               |  Bin 0 -> 1808769 bytes\\n .../20200604-covid-19-sitrep-136.pdf               |  Bin 0 -> 1636576 bytes\\n .../20200605-covid-19-sitrep-137.pdf               |  Bin 0 -> 1229102 bytes\\n .../20200606-covid-19-sitrep-138.pdf               |  Bin 0 -> 1271427 bytes\\n .../20200607-covid-19-sitrep-139.pdf               |  Bin 0 -> 1267061 bytes\\n .../20200608-covid-19-sitrep-140.pdf               |  Bin 0 -> 670021 bytes\\n .../20200609-covid-19-sitrep-141.pdf               |  Bin 0 -> 591888 bytes\\n .../20200610-covid-19-sitrep-142.pdf               |  Bin 0 -> 723478 bytes\\n .../20200611-covid-19-sitrep-143.pdf               |  Bin 0 -> 1684250 bytes\\n .../20200612-covid-19-sitrep-144.pdf               |  Bin 0 -> 1160750 bytes\\n .../20200613-covid-19-sitrep-145.pdf               |  Bin 0 -> 1136947 bytes\\n .../20200614-covid-19-sitrep-146.pdf               |  Bin 0 -> 1199173 bytes\\n .../20200615-covid-19-sitrep-147.pdf               |  Bin 0 -> 1435105 bytes\\n .../20200616-covid-19-sitrep-148-draft.pdf         |  Bin 0 -> 1217369 bytes\\n .../20200617-covid-19-sitrep-149.pdf               |  Bin 0 -> 1145364 bytes\\n .../20200618-covid-19-sitrep-150.pdf               |  Bin 0 -> 1671519 bytes\\n .../20200619-covid-19-sitrep-151.pdf               |  Bin 0 -> 1293653 bytes\\n .../who_covid_19_sit_rep_time_series.csv           |  538 +-\\n 154 files changed, 118995 insertions(+), 7804 deletions(-)\\n create mode 100644 csse_covid_19_data/csse_covid_19_daily_reports/06-12-2020.csv\\n create mode 100644 csse_covid_19_data/csse_covid_19_daily_reports/06-13-2020.csv\\n create mode 100644 csse_covid_19_data/csse_covid_19_daily_reports/06-14-2020.csv\\n create mode 100644 csse_covid_19_data/csse_covid_19_daily_reports/06-15-2020.csv\\n create mode 100644 csse_covid_19_data/csse_covid_19_daily_reports/06-16-2020.csv\\n create mode 100644 csse_covid_19_data/csse_covid_19_daily_reports/06-17-2020.csv\\n create mode 100644 csse_covid_19_data/csse_covid_19_daily_reports/06-18-2020.csv\\n create mode 100644 csse_covid_19_data/csse_covid_19_daily_reports/06-19-2020.csv\\n create mode 100644 csse_covid_19_data/csse_covid_19_daily_reports/06-20-2020.csv\\n create mode 100644 csse_covid_19_data/csse_covid_19_daily_reports/06-21-2020.csv\\n create mode 100644 csse_covid_19_data/csse_covid_19_daily_reports/06-22-2020.csv\\n create mode 100644 csse_covid_19_data/csse_covid_19_daily_reports/06-23-2020.csv\\n create mode 100644 csse_covid_19_data/csse_covid_19_daily_reports/06-24-2020.csv\\n create mode 100644 csse_covid_19_data/csse_covid_19_daily_reports/06-25-2020.csv\\n create mode 100644 csse_covid_19_data/csse_covid_19_daily_reports/06-26-2020.csv\\n create mode 100644 csse_covid_19_data/csse_covid_19_daily_reports/06-27-2020.csv\\n create mode 100644 csse_covid_19_data/csse_covid_19_daily_reports/06-28-2020.csv\\n create mode 100644 csse_covid_19_data/csse_covid_19_daily_reports/06-29-2020.csv\\n create mode 100644 csse_covid_19_data/csse_covid_19_daily_reports/06-30-2020.csv\\n create mode 100644 csse_covid_19_data/csse_covid_19_daily_reports/07-01-2020.csv\\n create mode 100644 csse_covid_19_data/csse_covid_19_daily_reports/07-02-2020.csv\\n create mode 100644 csse_covid_19_data/csse_covid_19_daily_reports/07-03-2020.csv\\n create mode 100644 csse_covid_19_data/csse_covid_19_daily_reports/07-04-2020.csv\\n create mode 100644 csse_covid_19_data/csse_covid_19_daily_reports/07-05-2020.csv\\n create mode 100644 csse_covid_19_data/csse_covid_19_daily_reports/07-06-2020.csv\\n create mode 100644 csse_covid_19_data/csse_covid_19_daily_reports/07-07-2020.csv\\n create mode 100644 csse_covid_19_data/csse_covid_19_daily_reports/07-08-2020.csv\\n create mode 100644 csse_covid_19_data/csse_covid_19_daily_reports/07-09-2020.csv\\n create mode 100644 csse_covid_19_data/csse_covid_19_daily_reports/07-10-2020.csv\\n create mode 100644 csse_covid_19_data/csse_covid_19_daily_reports_us/06-12-2020.csv\\n create mode 100644 csse_covid_19_data/csse_covid_19_daily_reports_us/06-13-2020.csv\\n create mode 100644 csse_covid_19_data/csse_covid_19_daily_reports_us/06-14-2020.csv\\n create mode 100644 csse_covid_19_data/csse_covid_19_daily_reports_us/06-15-2020.csv\\n create mode 100644 csse_covid_19_data/csse_covid_19_daily_reports_us/06-16-2020.csv\\n create mode 100644 csse_covid_19_data/csse_covid_19_daily_reports_us/06-17-2020.csv\\n create mode 100644 csse_covid_19_data/csse_covid_19_daily_reports_us/06-18-2020.csv\\n create mode 100644 csse_covid_19_data/csse_covid_19_daily_reports_us/06-19-2020.csv\\n create mode 100644 csse_covid_19_data/csse_covid_19_daily_reports_us/06-20-2020.csv\\n create mode 100644 csse_covid_19_data/csse_covid_19_daily_reports_us/06-21-2020.csv\\n create mode 100644 csse_covid_19_data/csse_covid_19_daily_reports_us/06-22-2020.csv\\n create mode 100644 csse_covid_19_data/csse_covid_19_daily_reports_us/06-23-2020.csv\\n create mode 100644 csse_covid_19_data/csse_covid_19_daily_reports_us/06-24-2020.csv\\n create mode 100644 csse_covid_19_data/csse_covid_19_daily_reports_us/06-25-2020.csv\\n create mode 100644 csse_covid_19_data/csse_covid_19_daily_reports_us/06-26-2020.csv\\n create mode 100644 csse_covid_19_data/csse_covid_19_daily_reports_us/06-27-2020.csv\\n create mode 100644 csse_covid_19_data/csse_covid_19_daily_reports_us/06-28-2020.csv\\n create mode 100644 csse_covid_19_data/csse_covid_19_daily_reports_us/06-29-2020.csv\\n create mode 100644 csse_covid_19_data/csse_covid_19_daily_reports_us/06-30-2020.csv\\n create mode 100644 csse_covid_19_data/csse_covid_19_daily_reports_us/07-01-2020.csv\\n create mode 100644 csse_covid_19_data/csse_covid_19_daily_reports_us/07-02-2020.csv\\n create mode 100644 csse_covid_19_data/csse_covid_19_daily_reports_us/07-03-2020.csv\\n create mode 100644 csse_covid_19_data/csse_covid_19_daily_reports_us/07-04-2020.csv\\n create mode 100644 csse_covid_19_data/csse_covid_19_daily_reports_us/07-05-2020.csv\\n create mode 100644 csse_covid_19_data/csse_covid_19_daily_reports_us/07-06-2020.csv\\n create mode 100644 csse_covid_19_data/csse_covid_19_daily_reports_us/07-07-2020.csv\\n create mode 100644 csse_covid_19_data/csse_covid_19_daily_reports_us/07-08-2020.csv\\n create mode 100644 csse_covid_19_data/csse_covid_19_daily_reports_us/07-09-2020.csv\\n create mode 100644 csse_covid_19_data/csse_covid_19_daily_reports_us/07-10-2020.csv\\n create mode 100644 who_covid_19_situation_reports/who_covid_19_sit_rep_pdfs/20200329-sitrep-69-covid-19.pdf\\n create mode 100644 who_covid_19_situation_reports/who_covid_19_sit_rep_pdfs/20200330-sitrep-70-covid-19.pdf\\n create mode 100644 who_covid_19_situation_reports/who_covid_19_sit_rep_pdfs/20200331-sitrep-71-covid-19.pdf\\n create mode 100644 who_covid_19_situation_reports/who_covid_19_sit_rep_pdfs/20200401-sitrep-72-covid-19.pdf\\n create mode 100644 who_covid_19_situation_reports/who_covid_19_sit_rep_pdfs/20200402-sitrep-73-covid-19.pdf\\n create mode 100644 who_covid_19_situation_reports/who_covid_19_sit_rep_pdfs/20200403-sitrep-74-covid-19-mp.pdf\\n create mode 100644 who_covid_19_situation_reports/who_covid_19_sit_rep_pdfs/20200404-sitrep-75-covid-19.pdf\\n create mode 100644 who_covid_19_situation_reports/who_covid_19_sit_rep_pdfs/20200405-sitrep-76-covid-19.pdf\\n create mode 100644 who_covid_19_situation_reports/who_covid_19_sit_rep_pdfs/20200406-sitrep-77-covid-19.pdf\\n create mode 100644 who_covid_19_situation_reports/who_covid_19_sit_rep_pdfs/20200407-sitrep-78-covid-19.pdf\\n create mode 100644 who_covid_19_situation_reports/who_covid_19_sit_rep_pdfs/20200408-sitrep-79-covid-19.pdf\\n create mode 100644 who_covid_19_situation_reports/who_covid_19_sit_rep_pdfs/20200409-sitrep-80-covid-19.pdf\\n create mode 100644 who_covid_19_situation_reports/who_covid_19_sit_rep_pdfs/20200410-sitrep-81-covid-19.pdf\\n create mode 100644 who_covid_19_situation_reports/who_covid_19_sit_rep_pdfs/20200411-sitrep-82-covid-19.pdf\\n create mode 100644 who_covid_19_situation_reports/who_covid_19_sit_rep_pdfs/20200412-sitrep-83-covid-19.pdf\\n create mode 100644 who_covid_19_situation_reports/who_covid_19_sit_rep_pdfs/20200413-sitrep-84-covid-19.pdf\\n create mode 100644 who_covid_19_situation_reports/who_covid_19_sit_rep_pdfs/20200414-sitrep-85-covid-19.pdf\\n create mode 100644 who_covid_19_situation_reports/who_covid_19_sit_rep_pdfs/20200415-sitrep-86-covid-19.pdf\\n create mode 100644 who_covid_19_situation_reports/who_covid_19_sit_rep_pdfs/20200416-sitrep-87-covid-19.pdf\\n create mode 100644 who_covid_19_situation_reports/who_covid_19_sit_rep_pdfs/20200417-sitrep-88-covid-191b6cccd94f8b4f219377bff55719a6ed.pdf\\n create mode 100644 who_covid_19_situation_reports/who_covid_19_sit_rep_pdfs/20200418-sitrep-89-covid-19.pdf\\n create mode 100644 who_covid_19_situation_reports/who_covid_19_sit_rep_pdfs/20200419-sitrep-90-covid-19.pdf\\n create mode 100644 who_covid_19_situation_reports/who_covid_19_sit_rep_pdfs/20200420-sitrep-91-covid-19.pdf\\n create mode 100644 who_covid_19_situation_reports/who_covid_19_sit_rep_pdfs/20200421-sitrep-92-covid-19.pdf\\n create mode 100644 who_covid_19_situation_reports/who_covid_19_sit_rep_pdfs/20200422-sitrep-93-covid-19.pdf\\n create mode 100644 who_covid_19_situation_reports/who_covid_19_sit_rep_pdfs/20200423-sitrep-94-covid-19.pdf\\n create mode 100644 who_covid_19_situation_reports/who_covid_19_sit_rep_pdfs/20200424-sitrep-95-covid-19.pdf\\n create mode 100644 who_covid_19_situation_reports/who_covid_19_sit_rep_pdfs/20200425-sitrep-96-covid-19.pdf\\n create mode 100644 who_covid_19_situation_reports/who_covid_19_sit_rep_pdfs/20200426-sitrep-97-covid-19.pdf\\n create mode 100644 who_covid_19_situation_reports/who_covid_19_sit_rep_pdfs/20200427-sitrep-98-covid-19.pdf\\n create mode 100644 who_covid_19_situation_reports/who_covid_19_sit_rep_pdfs/20200428-sitrep-99-covid-19.pdf\\n create mode 100644 who_covid_19_situation_reports/who_covid_19_sit_rep_pdfs/20200429-sitrep-100-covid-19.pdf\\n create mode 100644 who_covid_19_situation_reports/who_covid_19_sit_rep_pdfs/20200430-sitrep-101-covid-19.pdf\\n create mode 100644 who_covid_19_situation_reports/who_covid_19_sit_rep_pdfs/20200501-covid-19-sitrep.pdf\\n create mode 100644 who_covid_19_situation_reports/who_covid_19_sit_rep_pdfs/20200502-covid-19-sitrep-103.pdf\\n create mode 100644 who_covid_19_situation_reports/who_covid_19_sit_rep_pdfs/20200503-covid-19-sitrep-104.pdf\\n create mode 100644 who_covid_19_situation_reports/who_covid_19_sit_rep_pdfs/20200504-covid-19-sitrep-105.pdf\\n create mode 100644 who_covid_19_situation_reports/who_covid_19_sit_rep_pdfs/20200505covid-19-sitrep-106.pdf\\n create mode 100644 who_covid_19_situation_reports/who_covid_19_sit_rep_pdfs/20200506covid-19-sitrep-107.pdf\\n create mode 100644 who_covid_19_situation_reports/who_covid_19_sit_rep_pdfs/20200507covid-19-sitrep-108.pdf\\n create mode 100644 who_covid_19_situation_reports/who_covid_19_sit_rep_pdfs/20200508covid-19-sitrep-109.pdf\\n create mode 100644 who_covid_19_situation_reports/who_covid_19_sit_rep_pdfs/20200509covid-19-sitrep-110.pdf\\n create mode 100644 who_covid_19_situation_reports/who_covid_19_sit_rep_pdfs/20200510covid-19-sitrep-111.pdf\\n create mode 100644 who_covid_19_situation_reports/who_covid_19_sit_rep_pdfs/20200511-covid-19-sitrep-112.pdf\\n create mode 100644 who_covid_19_situation_reports/who_covid_19_sit_rep_pdfs/20200512-covid-19-sitrep-113.pdf\\n create mode 100644 who_covid_19_situation_reports/who_covid_19_sit_rep_pdfs/20200513-covid-19-sitrep-114.pdf\\n create mode 100644 who_covid_19_situation_reports/who_covid_19_sit_rep_pdfs/20200514-covid-19-sitrep-115.pdf\\n create mode 100644 who_covid_19_situation_reports/who_covid_19_sit_rep_pdfs/20200515-covid-19-sitrep-116.pdf\\n create mode 100644 who_covid_19_situation_reports/who_covid_19_sit_rep_pdfs/20200516-covid-19-sitrep-117.pdf\\n create mode 100644 who_covid_19_situation_reports/who_covid_19_sit_rep_pdfs/20200517-covid-19-sitrep-118.pdf\\n create mode 100644 who_covid_19_situation_reports/who_covid_19_sit_rep_pdfs/20200518-covid-19-sitrep-119.pdf\\n create mode 100644 who_covid_19_situation_reports/who_covid_19_sit_rep_pdfs/20200519-covid-19-sitrep-120.pdf\\n create mode 100644 who_covid_19_situation_reports/who_covid_19_sit_rep_pdfs/20200520-covid-19-sitrep-121.pdf\\n create mode 100644 who_covid_19_situation_reports/who_covid_19_sit_rep_pdfs/20200521-covid-19-sitrep-122.pdf\\n create mode 100644 who_covid_19_situation_reports/who_covid_19_sit_rep_pdfs/20200522-covid-19-sitrep-123.pdf\\n create mode 100644 who_covid_19_situation_reports/who_covid_19_sit_rep_pdfs/20200523-covid-19-sitrep-124.pdf\\n create mode 100644 who_covid_19_situation_reports/who_covid_19_sit_rep_pdfs/20200524-covid-19-sitrep-125.pdf\\n create mode 100644 who_covid_19_situation_reports/who_covid_19_sit_rep_pdfs/20200525-covid-19-sitrep-126.pdf\\n create mode 100644 who_covid_19_situation_reports/who_covid_19_sit_rep_pdfs/20200526-covid-19-sitrep-127.pdf\\n create mode 100644 who_covid_19_situation_reports/who_covid_19_sit_rep_pdfs/20200527-covid-19-sitrep-128.pdf\\n create mode 100644 who_covid_19_situation_reports/who_covid_19_sit_rep_pdfs/20200528-covid-19-sitrep-129.pdf\\n create mode 100644 who_covid_19_situation_reports/who_covid_19_sit_rep_pdfs/20200529-covid-19-sitrep-130.pdf\\n create mode 100644 who_covid_19_situation_reports/who_covid_19_sit_rep_pdfs/20200530-covid-19-sitrep-131.pdf\\n create mode 100644 who_covid_19_situation_reports/who_covid_19_sit_rep_pdfs/20200531-covid-19-sitrep-132.pdf\\n create mode 100644 who_covid_19_situation_reports/who_covid_19_sit_rep_pdfs/20200601-covid-19-sitrep-133.pdf\\n create mode 100644 who_covid_19_situation_reports/who_covid_19_sit_rep_pdfs/20200602-covid-19-sitrep-134.pdf\\n create mode 100644 who_covid_19_situation_reports/who_covid_19_sit_rep_pdfs/20200603-covid-19-sitrep-135.pdf\\n create mode 100644 who_covid_19_situation_reports/who_covid_19_sit_rep_pdfs/20200604-covid-19-sitrep-136.pdf\\n create mode 100644 who_covid_19_situation_reports/who_covid_19_sit_rep_pdfs/20200605-covid-19-sitrep-137.pdf\\n create mode 100644 who_covid_19_situation_reports/who_covid_19_sit_rep_pdfs/20200606-covid-19-sitrep-138.pdf\\n create mode 100644 who_covid_19_situation_reports/who_covid_19_sit_rep_pdfs/20200607-covid-19-sitrep-139.pdf\\n create mode 100644 who_covid_19_situation_reports/who_covid_19_sit_rep_pdfs/20200608-covid-19-sitrep-140.pdf\\n create mode 100644 who_covid_19_situation_reports/who_covid_19_sit_rep_pdfs/20200609-covid-19-sitrep-141.pdf\\n create mode 100644 who_covid_19_situation_reports/who_covid_19_sit_rep_pdfs/20200610-covid-19-sitrep-142.pdf\\n create mode 100644 who_covid_19_situation_reports/who_covid_19_sit_rep_pdfs/20200611-covid-19-sitrep-143.pdf\\n create mode 100644 who_covid_19_situation_reports/who_covid_19_sit_rep_pdfs/20200612-covid-19-sitrep-144.pdf\\n create mode 100644 who_covid_19_situation_reports/who_covid_19_sit_rep_pdfs/20200613-covid-19-sitrep-145.pdf\\n create mode 100644 who_covid_19_situation_reports/who_covid_19_sit_rep_pdfs/20200614-covid-19-sitrep-146.pdf\\n create mode 100644 who_covid_19_situation_reports/who_covid_19_sit_rep_pdfs/20200615-covid-19-sitrep-147.pdf\\n create mode 100644 who_covid_19_situation_reports/who_covid_19_sit_rep_pdfs/20200616-covid-19-sitrep-148-draft.pdf\\n create mode 100644 who_covid_19_situation_reports/who_covid_19_sit_rep_pdfs/20200617-covid-19-sitrep-149.pdf\\n create mode 100644 who_covid_19_situation_reports/who_covid_19_sit_rep_pdfs/20200618-covid-19-sitrep-150.pdf\\n create mode 100644 who_covid_19_situation_reports/who_covid_19_sit_rep_pdfs/20200619-covid-19-sitrep-151.pdf\\n'\n"
     ]
    },
    {
     "name": "stdout",
     "output_type": "stream",
     "text": [
      "Number of region rows:412\n"
     ]
    }
   ],
   "source": [
    "# %load src/data/get_data.py # Load the file directly!\n",
    "# Open files\n",
    "import subprocess\n",
    "import os\n",
    "\n",
    "import pandas as pd\n",
    "import numpy as np\n",
    "\n",
    "from datetime import datetime\n",
    "\n",
    "# Access websites\n",
    "import requests\n",
    "# Access json files\n",
    "import json\n",
    "\n",
    "def get_john_hopkins():\n",
    "   # Running a process using 'git' to get the data from 'cwd'\n",
    "   # shell == True the specified command will be executed through the shell.\n",
    "   # stdin, stdout and stderr specify the executed program’s standard input, standard output and standard error file handles, respectively.\n",
    "   # .communicate() writes input, reads all output, and waits for the subprocess to exit.\n",
    "    git_pull = subprocess.Popen('/usr/bin/git pull' ,\n",
    "    cwd = os.path.dirname('data/raw/COVID-19/'),\n",
    "    shell = True,\n",
    "    stdout = subprocess.PIPE,\n",
    "    stderr = subprocess.PIPE)\n",
    "\n",
    "    (out, error) = git_pull.communicate()\n",
    "\n",
    "    print(\"Error: \" + str(error))\n",
    "    print(\"out: \" + str(out))\n",
    "\n",
    "\n",
    "def get_current_data_germany():\n",
    "    data = requests.get('https://services7.arcgis.com/mOBPykOjAyBO2ZKk/arcgis/rest/services/RKI_Landkreisdaten/FeatureServer/0/query?where=1%3D1&outFields=*&outSR=4326&f=json')\n",
    "\n",
    "    json_object = json.loads(data.content)\n",
    "    full_list = []\n",
    "    for pos, each_dict in enumerate(json_object['features'][:]):\n",
    "        full_list.append(each_dict['attributes'])\n",
    "\n",
    "    pd_full_list = pd.DataFrame(full_list)\n",
    "    pd_full_list.to_csv('data/raw/NPGEO/GER_state_data.csv',sep=';')\n",
    "    print('Number of region rows:' +str(pd_full_list.shape[0]))\n",
    "\n",
    "if __name__ == '__main__':\n",
    "    get_john_hopkins()\n",
    "    get_current_data_germany()\n"
   ]
  },
  {
   "cell_type": "markdown",
   "metadata": {},
   "source": [
    "## Process pipeline"
   ]
  },
  {
   "cell_type": "markdown",
   "metadata": {},
   "source": [
    "- process the dataset(ex:John Hopkins)"
   ]
  },
  {
   "cell_type": "code",
   "execution_count": 3,
   "metadata": {},
   "outputs": [
    {
     "name": "stdout",
     "output_type": "stream",
     "text": [
      " Number of rows stored: 45486\n"
     ]
    }
   ],
   "source": [
    "# %load src/data/process_JH_data.py\n",
    "# Process the data\n",
    "import pandas as pd\n",
    "import numpy as np\n",
    "\n",
    "from datetime import datetime\n",
    "\n",
    "# Relational dataset : like a key:values pair\n",
    "def store_relational_JH_data():\n",
    "    data_path = 'data/raw/COVID-19/csse_covid_19_data/csse_covid_19_time_series/time_series_covid19_confirmed_global.csv'\n",
    "    pd_raw = pd.read_csv(data_path)\n",
    "\n",
    "    pd_data_base = pd_raw.rename(columns = {'Country/Region' : 'country',\n",
    "    'Province/State' : 'state'})\n",
    "\n",
    "    pd_data_base['state'] = pd_data_base['state'].fillna('no')\n",
    "\n",
    "    pd_data_base = pd_data_base.drop(['Lat', 'Long'], axis = 1)\n",
    "\n",
    "    # stack(): From columns to set_index\n",
    "    pd_relational_model = pd_data_base.set_index(['state', 'country']) \\\n",
    "    .T \\\n",
    "    .stack(level = [0,1]) \\\n",
    "    .reset_index() \\\n",
    "    .rename(columns = {'level_0' : 'date',\n",
    "    0 : 'confirmed'},\n",
    "    )\n",
    "\n",
    "    pd_relational_model['date'] = pd_relational_model.date.astype('datetime64[ns]')\n",
    "\n",
    "    pd_relational_model.to_csv('data/processed/COVID_relational_confirmed.csv',sep = ';',index = False)\n",
    "    print(' Number of rows stored: ' + str(pd_relational_model.shape[0]))\n",
    "\n",
    "if __name__ == '__main__':\n",
    "    store_relational_JH_data()\n"
   ]
  },
  {
   "cell_type": "markdown",
   "metadata": {},
   "source": [
    "## Filter and Doubling Rate Calculation"
   ]
  },
  {
   "cell_type": "markdown",
   "metadata": {},
   "source": [
    "- bring in the regression function, doubling rate function etc."
   ]
  },
  {
   "cell_type": "code",
   "execution_count": 4,
   "metadata": {},
   "outputs": [
    {
     "name": "stdout",
     "output_type": "stream",
     "text": [
      "The test slope is: [2.]\n",
      "            date state  country  confirmed  confirmed_filtered  confirmed_DR  \\\n",
      "24790 2020-07-06    no  Germany   198064.0            197965.4    456.339492   \n",
      "24791 2020-07-07    no  Germany   198343.0            198326.0    482.869919   \n",
      "24792 2020-07-08    no  Germany   198699.0            198687.8    624.783202   \n",
      "24793 2020-07-09    no  Germany   199001.0            199007.2    603.893617   \n",
      "24794 2020-07-10    no  Germany   199332.0            199326.6    628.785677   \n",
      "\n",
      "       confirmed_filtered_DR  \n",
      "24790             507.651593  \n",
      "24791             531.858320  \n",
      "24792             549.076412  \n",
      "24793             583.304952  \n",
      "24794             623.065748  \n"
     ]
    }
   ],
   "source": [
    "# %load src/features/build_features.py\n",
    "# %load src/features/build_features.py\n",
    "# Linear regression models\n",
    "import numpy as np\n",
    "import pandas as pd\n",
    "from sklearn import linear_model\n",
    "reg = linear_model.LinearRegression(fit_intercept = True)\n",
    "\n",
    "from scipy import signal\n",
    "\n",
    "def get_doubling_time_via_regression(in_array):\n",
    "\n",
    "    y = np.array(in_array)\n",
    "    X = np.arange(-1,2).reshape(-1,1)\n",
    "\n",
    "    assert len(in_array) == 3\n",
    "    reg.fit(X,y)\n",
    "    intercept = reg.intercept_\n",
    "    slope = reg.coef_\n",
    "\n",
    "    return intercept/slope\n",
    "\n",
    "# Whenever the Python interpreter reads a source file, it does two things:\n",
    "# it sets a few special variables like __name__, and then\n",
    "# it executes all of the code found in the file.\n",
    "# It's as if the interpreter inserts this at the top\n",
    "# of your module when run as the main program.\n",
    "# __name__ == \"__main__\"\n",
    "#if __name__ == '__main__':\n",
    "    #test_data = np.array([2,4,6])\n",
    "    #result = get_doubling_time_via_regression(test_data)\n",
    "    #print('The test slope is: ' + str(result))\n",
    "\n",
    "def savgol_filter(df_input, column ='confirmed', window = 5):\n",
    "    ''' Filter the data'''\n",
    "    degree = 1\n",
    "    df_result = df_input\n",
    "\n",
    "    filter_in = df_input[column].fillna(0) # Fill NA/NaN values using the specified method\n",
    "\n",
    "    result = signal.savgol_filter(np.array(filter_in),\n",
    "                                 window,\n",
    "                                 degree)\n",
    "    df_result[str(column+'_filtered')] = result\n",
    "    return df_result\n",
    "\n",
    "def rolling_reg(df_input,col='confirmed'):\n",
    "    ''' Rolling Regression to approximate the doubling time'''\n",
    "    ''' Connected to -> get_doubling_time_via_regression'''\n",
    "    days_back = 3\n",
    "    result = df_input[col].rolling(\n",
    "                window = days_back,\n",
    "                min_periods = days_back).apply(get_doubling_time_via_regression, raw = False)\n",
    "    return result\n",
    "\n",
    "def calc_filtered_data(df_input, filter_on = 'confirmed'):\n",
    "    ''' This function does all the merging of the new filtered data'''\n",
    "    ''' Connected to -> savgol_filter'''\n",
    "    # Set creates an unordered list of the given parameters\n",
    "    must_contain = set(['state', 'country', filter_on])\n",
    "    # Asserting whether state and country included in df_input\n",
    "    assert must_contain.issubset(set(df_input.columns)), 'comment after a comma is accepted'\n",
    "\n",
    "    df_output = df_input.copy()\n",
    "    pd_filtered_result = df_output[['state', 'country', filter_on]].groupby(['state', 'country']).apply(savgol_filter)\n",
    "    df_output = pd.merge(df_output, pd_filtered_result[[str(filter_on + '_filtered')]], left_index = True, right_index = True, how = 'left')\n",
    "    return df_output.copy()\n",
    "\n",
    "def calc_doubling_rate(df_input, filter_on = 'confirmed'):\n",
    "    ''' Connected to -> rolling_reg'''\n",
    "    must_contain = set(['state', 'country', filter_on])\n",
    "    assert must_contain.issubset(set(df_input.columns)), 'comment after a comma is accepted'\n",
    "\n",
    "    # Apply rolling_reg to the column 'confirmed' on states of countries\n",
    "    pd_DR_result = df_input.groupby(['state', 'country']).apply(rolling_reg, filter_on).reset_index()\n",
    "\n",
    "    pd_DR_result = pd_DR_result.rename(columns = {filter_on : filter_on+'_DR', 'level_2' :'index'})\n",
    "\n",
    "    df_output = pd.merge(df_input, pd_DR_result[['index', str(filter_on + '_DR')]], left_index = True, right_on = ['index'], how = 'left')\n",
    "    df_output = df_output.drop(columns = ['index'])\n",
    "\n",
    "    return df_output\n",
    "\n",
    "if __name__ == '__main__':\n",
    "    test_data_reg = np.array([2,4,6])\n",
    "    result = get_doubling_time_via_regression(test_data_reg)\n",
    "    print('The test slope is: ' + str(result))\n",
    "\n",
    "    pd_JH_data = pd.read_csv('data/processed/COVID_relational_confirmed.csv', sep = ';', parse_dates = [0])\n",
    "    pd_JH_data = pd_JH_data.sort_values('date', ascending = True).copy()\n",
    "\n",
    "    pd_result_larg = calc_filtered_data(pd_JH_data)\n",
    "    pd_result_larg = calc_doubling_rate(pd_result_larg)\n",
    "    # overwrites the parameter 'filter_on'\n",
    "    pd_result_larg = calc_doubling_rate(pd_result_larg, 'confirmed_filtered')\n",
    "\n",
    "    mask = pd_result_larg['confirmed'] > 100\n",
    "    pd_result_larg['confirmed_filtered_DR'] = pd_result_larg['confirmed_filtered_DR'].where(mask, other = np.NaN)\n",
    "    pd_result_larg.to_csv('data/processed/COVID_final_set.csv', sep = ';', index = False)\n",
    "    print(pd_result_larg[pd_result_larg['country'] == 'Germany'].tail())\n"
   ]
  },
  {
   "cell_type": "markdown",
   "metadata": {},
   "source": [
    "## Visual Board"
   ]
  },
  {
   "cell_type": "markdown",
   "metadata": {},
   "source": [
    "- dash board with full list of countries (>=100)\n",
    "- all features(ex.:filtered data, doubling rate) from the data needs to be shown in dashboard\n",
    "- graph starts with 100 confirmed cases"
   ]
  },
  {
   "cell_type": "code",
   "execution_count": null,
   "metadata": {},
   "outputs": [
    {
     "name": "stdout",
     "output_type": "stream",
     "text": [
      "/Users/vimstan/Desktop/Data Science/Vimstan_Covid19/ads_covid-19\n",
      "Running on http://127.0.0.1:8050/\n",
      "Debugger PIN: 281-575-706\n",
      " * Serving Flask app \"__main__\" (lazy loading)\n",
      " * Environment: production\n",
      "   WARNING: This is a development server. Do not use it in a production deployment.\n",
      "   Use a production WSGI server instead.\n",
      " * Debug mode: on\n"
     ]
    }
   ],
   "source": [
    "# %load ../src/visualization/visualize.py\n",
    "import pandas as pd\n",
    "import numpy as np\n",
    "\n",
    "import dash\n",
    "dash.__version__\n",
    "import dash_core_components as dcc\n",
    "import dash_html_components as html\n",
    "from dash.dependencies import Input, Output, State\n",
    "\n",
    "import plotly.graph_objects as go\n",
    "\n",
    "import os\n",
    "# Get current working directory\n",
    "print(os.getcwd())\n",
    "df_input_large = pd.read_csv('data/processed/COVID_final_set.csv',sep=';')\n",
    "\n",
    "fig = go.Figure()\n",
    "app = dash.Dash()\n",
    "app.layout = html.Div([ # In Markdown one can add text for the dashboard\n",
    "dcc.Markdown('''\n",
    "# Applied Data Science on COVID-19 data\n",
    "Goals of the project:\n",
    "- teach data science by applying a cross industry standard process\n",
    "- automated data gathering, data transformations, filtering\n",
    "- apply machine learning to approximate the doubling Timeline\n",
    "- static deployment of the dashboard\n",
    "\n",
    "\n",
    "'''),\n",
    "\n",
    "dcc.Markdown('''\n",
    "## Select different countries for visualization\n",
    "'''),\n",
    "\n",
    "dcc.Dropdown(# This is the selection area of the countries\n",
    "id = 'country_drop_down',\n",
    "options = [{'label' : each, 'value' : each} for each in df_input_large['country'].unique()],# check if countries are not repeated\n",
    "value = ['US', 'Germany', 'Italy'],# pre-selected\n",
    "multi = True # Many options can be chosen\n",
    "),\n",
    "\n",
    "dcc.Markdown('''\n",
    "## Features\n",
    "'''),\n",
    "\n",
    "dcc.Dropdown(\n",
    "id = 'doubling_time',\n",
    "options = [\n",
    "{'label' : 'Timeline Confirmed', 'value' : 'confirmed'},\n",
    "{'label' : 'Timeline Confirmed Filtered', 'value' : 'confirmed_filtered'},\n",
    "{'label' : 'Timeline Doubling Rate', 'value' : 'confirmed_DR'},\n",
    "{'label' : 'Timeline Doubling Rate Filtered', 'value' : 'confirmed_filtered_DR'},\n",
    "],\n",
    "value = 'confirmed',\n",
    "multi = False\n",
    "),\n",
    "dcc.Graph(figure = fig, id = 'main_window_slope')\n",
    "])\n",
    "\n",
    "@app.callback(\n",
    "Output('main_window_slope', 'figure'), # property -> figure\n",
    "[Input('country_drop_down', 'value'), # property -> value\n",
    "Input('doubling_time', 'value')])\n",
    "\n",
    "def update_figure(country_list, show_doubling):\n",
    "    if 'confirmed_DR' in show_doubling:\n",
    "        my_yaxis = {'type' : \"log\",\n",
    "        'title' : 'Approximated doubling rate over 3 days (larger numbers are better)'\n",
    "        }\n",
    "    else:\n",
    "        my_yaxis = {'type' : \"log\",\n",
    "        'title':'Confirmed infected people (source johns hopkins csse, log-scale)'\n",
    "        }\n",
    "\n",
    "    traces = [] # creating a list\n",
    "    for each in country_list:\n",
    "        df_plot = df_input_large[df_input_large['country'] == each]\n",
    "\n",
    "        if show_doubling == 'confirmed_filtered_DR':\n",
    "            # aggregate per date and country\n",
    "            df_plot = df_plot[['state', 'country', 'confirmed', 'confirmed_filtered', 'confirmed_DR', 'confirmed_filtered_DR', 'date']].groupby(['country', 'date']).agg(np.mean).reset_index()\n",
    "        else: # confimred data -> therefore add all the cases\n",
    "            df_plot = df_plot[['state','country','confirmed','confirmed_filtered','confirmed_DR','confirmed_filtered_DR','date']].groupby(['country','date']).agg(np.sum).reset_index()\n",
    "\n",
    "        traces.append(dict(x = df_plot.date,\n",
    "                           y = df_plot[show_doubling],\n",
    "                           mode = 'markers+lines',\n",
    "                           opacity = 0.9,\n",
    "                           name = each,\n",
    "                          )\n",
    "                       )\n",
    "    return {\n",
    "    'data' : traces,\n",
    "    'layout' : dict(\n",
    "    width = 1280,\n",
    "    height = 720,\n",
    "\n",
    "    xaxis={'title':'Timeline',\n",
    "            'tickangle':-45,\n",
    "            'nticks':20,\n",
    "            'tickfont':dict(size=14,color=\"#7f7f7f\"),\n",
    "          },\n",
    "    yaxis = my_yaxis\n",
    "    )\n",
    "}\n",
    "\n",
    "\n",
    "if __name__ == '__main__':\n",
    "    # set debug to true to ensure we don't have to keep refreshing the server every time we make some changes\n",
    "    app.run_server(debug=True, use_reloader=False)\n"
   ]
  },
  {
   "cell_type": "code",
   "execution_count": null,
   "metadata": {},
   "outputs": [],
   "source": []
  }
 ],
 "metadata": {
  "kernelspec": {
   "display_name": "Python 3",
   "language": "python",
   "name": "python3"
  },
  "language_info": {
   "codemirror_mode": {
    "name": "ipython",
    "version": 3
   },
   "file_extension": ".py",
   "mimetype": "text/x-python",
   "name": "python",
   "nbconvert_exporter": "python",
   "pygments_lexer": "ipython3",
   "version": "3.7.6"
  }
 },
 "nbformat": 4,
 "nbformat_minor": 4
}
